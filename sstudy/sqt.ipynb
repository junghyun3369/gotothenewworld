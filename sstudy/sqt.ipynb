{
 "cells": [
  {
   "cell_type": "code",
   "execution_count": 52,
   "id": "76bf6bb2",
   "metadata": {},
   "outputs": [
    {
     "name": "stdout",
     "output_type": "stream",
     "text": [
      "콘텐츠 이용이 불가능합니다.\n"
     ]
    }
   ],
   "source": [
    "# 두 변수의 값을 바꿔가며 테스트 해보세요!\n",
    "is_login = False\n",
    "is_vip = True\n",
    "\n",
    "# 둘 중 하나라도 True이면 조건은 참이 됩니다.\n",
    "if is_login:\n",
    "    print(\"콘텐츠 이용이 가능합니다.\")\n",
    "else:\n",
    "    print(\"콘텐츠 이용이 불가능합니다.\")"
   ]
  },
  {
   "cell_type": "markdown",
   "id": "82c18620",
   "metadata": {},
   "source": [
    "문제 1) 사용자가 숫자를 맞추는 게임을 진행합니다. 사용자가 숫자를 맞추면 \"정답입니다!\"를 출력하고, 틀리면 \"틀렸습니다. 다시 시도하세요.\"라는 메시지를 출력하는 숫자 맞추기 게임을 만들어보세요\n",
    "\n",
    "예시) 정답이 25일때\n",
    "\n",
    "1부터 100까지의 숫자를 입력하세요: 30\n",
    "틀렸습니다. 다시 시도하세요.\n",
    "\n",
    "1부터 100까지의 숫자를 입력하세요: 25\n",
    "정답입니다!\n"
   ]
  },
  {
   "cell_type": "code",
   "execution_count": 33,
   "id": "b0fce78d",
   "metadata": {},
   "outputs": [
    {
     "name": "stdout",
     "output_type": "stream",
     "text": [
      "틀렸습니다. 다시 시도하세요.\n"
     ]
    }
   ],
   "source": [
    "a = input(f\"1부터 100까지의 수를 입력하세요\")\n",
    "c = int(a)\n",
    "b = 25\n",
    "if  c == b:\n",
    "    print(\"정답\")\n",
    "else:\n",
    "    print(\"틀렸습니다. 다시 시도하세요.\")\n"
   ]
  },
  {
   "cell_type": "markdown",
   "id": "3c5309b9",
   "metadata": {},
   "source": [
    " 문제 2) 호그와트에는 마법사만 입학할 수 있습니다. 마법사의 조건은 마력 수치가 70 이상이어야 합니다. 사용자로부터 이름과 마력 수치를 입력받고, 마법사 자격이 있는지를 판단하세요.\n",
    "\n",
    "입력 예시: 헤르미온느 100\n",
    "출력 예시: {'이름': '헤르미온느', '마법사인가?': True}"
   ]
  },
  {
   "cell_type": "code",
   "execution_count": 13,
   "id": "99b3c4b3",
   "metadata": {},
   "outputs": [
    {
     "name": "stdout",
     "output_type": "stream",
     "text": [
      "{'이름': 'aa', '마법사인가?': False}\n"
     ]
    }
   ],
   "source": [
    "이름 = input(\"이름을 입력\")\n",
    "마력 = input(\"마력을 입력\")\n",
    "a = int(마력)\n",
    "마법사 = (a >= 70)\n",
    "result = {'이름' : 이름, '마법사인가?' : 마법사}\n",
    "print(result)"
   ]
  },
  {
   "cell_type": "markdown",
   "id": "b786fa59",
   "metadata": {},
   "source": [
    "문제 3) 퀴즈 정답 확인하기\n",
    "간단한 퀴즈를 사용자에게 내고, 사용자가 입력한 답이 정답과 같으면 \"정답입니다!\",\n",
    "다르면 \"틀렸습니다.\" 라고 출력하는 프로그램을 작성하세요.\n",
    "Q.포르투갈의 수도는 어디인가요?\n"
   ]
  },
  {
   "cell_type": "code",
   "execution_count": 31,
   "id": "2f5a1166",
   "metadata": {},
   "outputs": [
    {
     "name": "stdout",
     "output_type": "stream",
     "text": [
      "정답\n"
     ]
    }
   ],
   "source": [
    "a = input(\"포르투갈의 수도는 어디인가요?\")\n",
    "b = \"리스본\"\n",
    "if a == b:\n",
    "    print(\"정답\")\n",
    "else:\n",
    "    print(\"오답\")"
   ]
  }
 ],
 "metadata": {
  "kernelspec": {
   "display_name": "Python 3",
   "language": "python",
   "name": "python3"
  },
  "language_info": {
   "codemirror_mode": {
    "name": "ipython",
    "version": 3
   },
   "file_extension": ".py",
   "mimetype": "text/x-python",
   "name": "python",
   "nbconvert_exporter": "python",
   "pygments_lexer": "ipython3",
   "version": "3.13.5"
  }
 },
 "nbformat": 4,
 "nbformat_minor": 5
}
