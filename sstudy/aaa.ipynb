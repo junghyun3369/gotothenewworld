{
 "cells": [
  {
   "cell_type": "code",
   "execution_count": null,
   "id": "64b13665",
   "metadata": {},
   "outputs": [],
   "source": [
    "def get_pass_average(scores, cut_off):\n",
    "    # 합격 점수만 담을 빈 리스트\n",
    "    pass_scores = []\n",
    "    \n",
    "    # for문으로 모든 점수를 확인\n",
    "    for score in scores:\n",
    "        # if문으로 합격 기준(cut_off)을 넘는지 확인\n",
    "        if score >= cut_off:\n",
    "            pass_scores.append(score) # 합격 리스트에 추가\n",
    "            \n",
    "    # 합격자가 한 명도 없으면 0을 반환하여 오류 방지\n",
    "    if len(pass_scores) == 0:\n",
    "        return 0\n",
    "\n",
    "    # 합격자 리스트의 평균을 계산하여 반환\n",
    "    average = sum(pass_scores) / len(pass_scores)\n",
    "    return average\n",
    "\n",
    "# 함수 호출 및 결과 사용\n",
    "all_scores = [55, 85, 95, 70, 60]\n",
    "pass_avg = get_pass_average(all_scores, 80)\n",
    "print(f\"합격자 평균 점수: {pass_avg}\") # 출력: 합격자 평균 점수: 90.0"
   ]
  },
  {
   "cell_type": "code",
   "execution_count": null,
   "id": "e3a09121",
   "metadata": {},
   "outputs": [],
   "source": [
    "def analyze_list(num_list):\n",
    "    count = len(num_list)\n",
    "    total = sum(num_list)\n",
    "    maximum = max(num_list)\n",
    "    minimum = min(num_list)\n",
    "\n",
    "    print(f\"리스트 요소 개수: {count}\")\n",
    "    print(f\"리스트 요소 합계: {total}\")\n",
    "    print(f\"리스트 요소 최댓값: {maximum}\")\n",
    "    print(f\"리스트 요소 최솟값: {minimum}\")\n",
    "\n",
    "# 함수 호출\n",
    "scores = [88, 95, 70, 100, 99]\n",
    "analyze_list(scores)"
   ]
  },
  {
   "cell_type": "markdown",
   "id": "4b1e5abd",
   "metadata": {},
   "source": [
    "문제 1) 마법 주문 외우기\n",
    "마법사는 특정한 주문 \"수리수리마수리\" 를 정확하게 외울 수 있어야 마법을 사용할 수 있습니다.\n",
    "총 3번의 기회 안에 정확한 주문을 외우면 합격입니다!\n",
    "사용자에게 주문을 입력받고\n",
    "정답이면 \"✨ 정답! 마법이 발동했습니다!\"\n",
    "\n",
    "\n",
    "틀리면 \"❌ 틀렸어요! (입력한 글자 수: n글자)\"\n",
    "3번 모두 틀리면 \"💥 실패! 마법에 실패했습니다.\"\n",
    "라고 출력하세요.\n",
    "조건\n",
    "정답 주문은 수리수리마수리 입니다.\n",
    "\n",
    "기회는 총 3번입니다.\n",
    "\n",
    "\n",
    "입력한 문자열이 정답과 정확히 일치해야 합니다.\n",
    "대소문자도 구분됩니다.\n",
    "오답일 경우 입력한 글자의 수를 함께 출력하세요.\n",
    " (len() 함수를 사용하세요)\n",
    "\n",
    "정답을 맞추면 게임은 즉시 종료됩니다.\n"
   ]
  },
  {
   "cell_type": "code",
   "execution_count": 7,
   "id": "def01415",
   "metadata": {},
   "outputs": [
    {
     "name": "stdout",
     "output_type": "stream",
     "text": [
      "✨ 정답! 마법이 발동했습니다!\n"
     ]
    }
   ],
   "source": [
    "for i in range(3):\n",
    "    b = input(\"주문\")\n",
    "    if b == '수리수리마수리':\n",
    "        print(\"✨ 정답! 마법이 발동했습니다!\")\n",
    "        break\n",
    "    else:\n",
    "        print(f\"❌ 틀렸어요! (입력한 글자 수: {len(b)}글자)\")\n",
    "        print(f\"남은 기회: {2 - i}번\")\n",
    "else:\n",
    "    print(\"💥 실패! 마법에 실패했습니다.\")"
   ]
  },
  {
   "cell_type": "code",
   "execution_count": null,
   "id": "ce095f33",
   "metadata": {},
   "outputs": [],
   "source": []
  },
  {
   "cell_type": "markdown",
   "id": "5b00d4bd",
   "metadata": {},
   "source": [
    "문제2) 과일 개수 세기\n",
    "리스트 안에 과일 이름들이 들어 있습니다.\n",
    "그 중 \"사과\"가 몇 개인지 세어 출력하세요.\n",
    "\n",
    "조건\n",
    "리스트는 직접 코드에 들어 있습니다.\n",
    "\n",
    "\n",
    "count() 내장 함수를 사용하세요.\n"
   ]
  },
  {
   "cell_type": "code",
   "execution_count": 11,
   "id": "9fe9ace9",
   "metadata": {},
   "outputs": [
    {
     "name": "stdout",
     "output_type": "stream",
     "text": [
      "3개\n"
     ]
    }
   ],
   "source": [
    "a = [\"사과\", \"바나나\", \"사과\", \"딸기\", \"포도\", \"사과\"]\n",
    "b = a.count(\"사과\")\n",
    "print(f\"{b}개\")"
   ]
  },
  {
   "cell_type": "markdown",
   "id": "1ef880c5",
   "metadata": {},
   "source": [
    "문제3) 입력한 숫자들 중 짝수와 홀수 개수를 구하는 함수 만들기\n",
    "사용자로부터 숫자를 5번 입력받아 리스트로 저장한 후,\n",
    "그 숫자들 중 짝수와 홀수의 개수를 반환하는 함수를 작성하세요.\n",
    "> 출력 예시\n",
    "숫자를 입력하세요: 3  \n",
    "숫자를 입력하세요: 4  \n",
    "숫자를 입력하세요: 6  \n",
    "숫자를 입력하세요: 7  \n",
    "숫자를 입력하세요: 2  \n",
    "짝수 개수: 3  \n",
    "홀수 개수: 2\n"
   ]
  },
  {
   "cell_type": "code",
   "execution_count": null,
   "id": "266a34a9",
   "metadata": {},
   "outputs": [],
   "source": [
    "a = input(\"숫자를 입력\")\n",
    "b = []\n",
    "b.append(a)"
   ]
  },
  {
   "cell_type": "code",
   "execution_count": null,
   "id": "a5842362",
   "metadata": {},
   "outputs": [],
   "source": []
  },
  {
   "cell_type": "markdown",
   "id": "79bd51a2",
   "metadata": {},
   "source": [
    " 보스 몬스터 체력 찾기\n",
    "여러 몬스터의 체력이 리스트로 주어집니다.\n",
    " 플레이어가 한 방에 공격할 수 있는 최대 데미지는 100입니다.\n",
    "몬스터들 중 체력이 100 이상인 ‘보스 몬스터’가 몇 마리인지 세는 함수를 작성하세요.\n",
    "제한사항: for 반복문 사용, 조건문으로 체력 비교 (>= 100)\n",
    "-입력 예시:count_boss_monsters([50, 120, 200, 30, 99, 150])\n",
    "-출력 예시:3\n"
   ]
  },
  {
   "cell_type": "code",
   "execution_count": null,
   "id": "033eb01f",
   "metadata": {},
   "outputs": [],
   "source": []
  },
  {
   "cell_type": "code",
   "execution_count": null,
   "id": "b3cc8846",
   "metadata": {},
   "outputs": [],
   "source": []
  },
  {
   "cell_type": "markdown",
   "id": "5f3cc783",
   "metadata": {},
   "source": [
    "닉네임 짓기\n",
    "\n",
    "게임에 로그인하려면 닉네임이 3글자 이상 8글자 이하여야 합니다.\n",
    "사용자에게 닉네임을 입력받아, 조건에 맞으면 \"캐릭터를 생성합니다.\"\n",
    "그렇지 않으면 \"글자수 제한\"을 출력하세요.\n"
   ]
  },
  {
   "cell_type": "code",
   "execution_count": 21,
   "id": "7282e548",
   "metadata": {},
   "outputs": [
    {
     "name": "stdout",
     "output_type": "stream",
     "text": [
      "캐릭터를 생성합니다.\n"
     ]
    }
   ],
   "source": [
    "a = input(\"나마에\")\n",
    "if 8 >= len(a) >=3:\n",
    "    print(\"캐릭터를 생성합니다.\")\n",
    "else:\n",
    "    print(\"글자수 제한\")\n",
    "\n"
   ]
  },
  {
   "cell_type": "code",
   "execution_count": null,
   "id": "1dc145d7",
   "metadata": {},
   "outputs": [],
   "source": []
  },
  {
   "cell_type": "markdown",
   "id": "540c6d48",
   "metadata": {},
   "source": [
    "좀비 감염 시뮬레이션\n",
    "\n",
    "당신은 좀비가 득실거리는 세상에서 살아남은 사람입니다.\n",
    "당신이 살 수 있는 조건은: 체력이 50 이상이고, 이름이 2글자 이상인 경우입니다.\n",
    "사용자에게 이름과 체력을 입력받고, 조건을 만족하면 \"생존 성공!\"\n",
    "그렇지 않으면 \"좀비에게 잡아먹혔습니다...\"를 출력하세요.\n"
   ]
  },
  {
   "cell_type": "code",
   "execution_count": 18,
   "id": "c769ae8b",
   "metadata": {},
   "outputs": [
    {
     "name": "stdout",
     "output_type": "stream",
     "text": [
      "좀비에게잡아먹혔ㄷ.\n"
     ]
    }
   ],
   "source": [
    "a = input(\"체력.\")\n",
    "b = input(\"성명.\")\n",
    "if int(a) >= 50:\n",
    "    if len(b) >= 2:\n",
    "        print(\"생존 성공..\")\n",
    "else:\n",
    "    print(\"좀비에게잡아먹혔ㄷ.\")"
   ]
  }
 ],
 "metadata": {
  "kernelspec": {
   "display_name": "Python 3",
   "language": "python",
   "name": "python3"
  },
  "language_info": {
   "codemirror_mode": {
    "name": "ipython",
    "version": 3
   },
   "file_extension": ".py",
   "mimetype": "text/x-python",
   "name": "python",
   "nbconvert_exporter": "python",
   "pygments_lexer": "ipython3",
   "version": "3.13.5"
  }
 },
 "nbformat": 4,
 "nbformat_minor": 5
}
