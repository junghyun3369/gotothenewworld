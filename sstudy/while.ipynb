{
 "cells": [
  {
   "cell_type": "markdown",
   "id": "50ec8fde",
   "metadata": {},
   "source": [
    "간단한 자판기\n",
    "money라는 변수에 1000이라는 값을 가진 돈을 준비하세요.\n",
    "음료수 가격은 price = 300으로 정해두세요.\n",
    "while문을 사용해서 돈이 음료수 가격보다 많거나 같은 동안 \"음료수를 구매했습니다.\"를 출력하고, 가진 돈(money)에서 음료수 가격(price)만큼 빼세요.\n",
    "반복문이 끝난 후, \"돈이 부족합니다. 남은 돈: [금액]\"을 최종적으로 출력하세요.\n"
   ]
  },
  {
   "cell_type": "code",
   "execution_count": null,
   "id": "1f5e52b5",
   "metadata": {},
   "outputs": [],
   "source": [
    "money = 1000\n",
    "price = 300\n",
    "\n",
    "# 돈이 가격보다 많거나 같은 동안 반복\n",
    "while money >= price:\n",
    "    print(\"음료수를 구매했습니다.\")\n",
    "    money = money - price # 가진 돈에서 가격만큼 차감 (상태 업데이트)\n",
    "    print(f\"현재 남은 돈: {money}원\")\n",
    "\n",
    "# while문이 종료되면 실행\n",
    "print(f\"돈이 부족합니다. 남은 돈: {money}원\")"
   ]
  },
  {
   "cell_type": "markdown",
   "id": "b2fd04c9",
   "metadata": {},
   "source": [
    "해설: while money >= price라는 명확한 조건이 있습니다. 반복문 내부에서는 money = money - price 코드를 통해 while문의 조건(돈이 충분한가?)에 영향을 주는 변수의 값을 계속 변경합니다. 결국 money가 price보다 작아지는 순간 while문의 조건이 거짓(False)이 되어 반복이 자연스럽게 종료됩니다."
   ]
  },
  {
   "cell_type": "markdown",
   "id": "b7aeca63",
   "metadata": {},
   "source": [
    "단어 퀴즈 풀기\n",
    "딕셔너리에 ‘단어’와 ‘뜻’을 키와 값으로 담습니다.\n",
    "퀴즈는 총 3문제로 구성되어 있습니다.\n",
    "\n",
    "\n",
    "각 문제마다 사용자에게 뜻을 보여주고, 영어 단어를 입력받습니다.\n",
    "\n",
    "\n",
    "정답이면 \"정답입니다!\",\n",
    "\n",
    "\n",
    "오답이면 \"틀렸습니다. 다시 시도하세요.\"를 출력하고\n",
    "\n",
    "\n",
    "정답을 맞힐 때까지 반복합니다.\n"
   ]
  },
  {
   "cell_type": "code",
   "execution_count": null,
   "id": "e39e9ceb",
   "metadata": {},
   "outputs": [],
   "source": [
    "a = {'apple': '사과' , 'banana': '바나나', 'Light': '빛'}\n",
    "\n",
    "for dic in a:"
   ]
  },
  {
   "cell_type": "code",
   "execution_count": null,
   "id": "482a11bb",
   "metadata": {},
   "outputs": [],
   "source": []
  },
  {
   "cell_type": "markdown",
   "id": "2fcb1aa8",
   "metadata": {},
   "source": [
    "선생님이 사탕 10개를 가지고 있습니다..\n",
    "학생에게 한 번에 1개씩 사탕을 나눠줍니다..\n",
    "학생(사용자)이 \"주세요\"라고 입력하면 사탕 1개를 줍니다.\n",
    "사탕이 모두 없어지면 \"사탕이 모두 없어졌어요!\"를 출력하고 끝냅니다."
   ]
  },
  {
   "cell_type": "code",
   "execution_count": 14,
   "id": "e0a9034b",
   "metadata": {},
   "outputs": [
    {
     "name": "stdout",
     "output_type": "stream",
     "text": [
      "사탕이 10 개 남았어요.\n",
      "사탕이 9 개 남았어요.\n",
      "사탕이 8 개 남았어요.\n",
      "사탕이 7 개 남았어요.\n",
      "사탕이 6 개 남았어요.\n",
      "사탕이 5 개 남았어요.\n",
      "사탕이 4 개 남았어요.\n",
      "사탕이 3 개 남았어요.\n",
      "사탕이 2 개 남았어요.\n",
      "사탕이 1 개 남았어요.\n",
      "사탕이 모두 없어졌어요!\n"
     ]
    }
   ],
   "source": [
    "candy = 10\n",
    "\n",
    "while candy > 0:\n",
    "    a = input(\"사탕먹어\")\n",
    "    if a == '주세요':\n",
    "        print(f\"사탕이 {candy} 개 남았어요.\")\n",
    "        candy -= 1\n",
    "\n",
    "\n",
    "print(\"사탕이 모두 없어졌어요!\")\n"
   ]
  },
  {
   "cell_type": "code",
   "execution_count": null,
   "id": "16857c7f",
   "metadata": {},
   "outputs": [],
   "source": []
  },
  {
   "cell_type": "markdown",
   "id": "ede0ed7b",
   "metadata": {},
   "source": [
    "사용자 입력받아 반복 출력하기\n",
    "문제 설명:\n",
    " while 제어문을 사용하여 사용자로부터 단어를 입력 받고 \n",
    "\"안녕\"이라고 입력할 때까지 계속 \"계속 입력하세요\"를 출력하도록 하세요.\n",
    "\n",
    " (단, 사용자가 \"안녕\"을 입력할 경우 반복을 멈추고 \"종료합니다.\"를 출력하세요.)\n",
    "예시\n",
    "\n",
    "입력: 방가\n",
    "계속 입력하세요\n",
    "입력: 안녕\n",
    "종료합니다.\n"
   ]
  },
  {
   "cell_type": "code",
   "execution_count": 4,
   "id": "04a5971b",
   "metadata": {},
   "outputs": [
    {
     "name": "stdout",
     "output_type": "stream",
     "text": [
      "계속 입력하세요.\n",
      "계속 입력하세요.\n",
      "계속 입력하세요.\n",
      "계속 입력하세요.\n",
      "계속 입력하세요.\n",
      "종료합니다.\n"
     ]
    }
   ],
   "source": [
    "while True:\n",
    "    a = input(\"말해('안녕' 입력 사 종료): \")\n",
    "    if a == '안녕':\n",
    "        print(\"종료합니다.\")\n",
    "        break\n",
    "    else:\n",
    "        print(\"계속 입력하세요.\")\n",
    "        "
   ]
  },
  {
   "cell_type": "code",
   "execution_count": null,
   "id": "cfee7c50",
   "metadata": {},
   "outputs": [],
   "source": []
  }
 ],
 "metadata": {
  "kernelspec": {
   "display_name": "Python 3",
   "language": "python",
   "name": "python3"
  },
  "language_info": {
   "codemirror_mode": {
    "name": "ipython",
    "version": 3
   },
   "file_extension": ".py",
   "mimetype": "text/x-python",
   "name": "python",
   "nbconvert_exporter": "python",
   "pygments_lexer": "ipython3",
   "version": "3.13.5"
  }
 },
 "nbformat": 4,
 "nbformat_minor": 5
}
