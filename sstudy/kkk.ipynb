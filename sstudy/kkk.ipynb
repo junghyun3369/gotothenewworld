{
 "cells": [
  {
   "cell_type": "code",
   "execution_count": 20,
   "id": "41d535bc",
   "metadata": {},
   "outputs": [
    {
     "name": "stdout",
     "output_type": "stream",
     "text": [
      "[25, 30.19]\n"
     ]
    }
   ],
   "source": [
    "def a(d):\n",
    "    b = []\n",
    "    for c in d:\n",
    "        if c >= 19:\n",
    "            b.append(c)\n",
    "    return b\n",
    "ages = [15,25,18,30.19]\n",
    "e = a(ages)\n",
    "print(e)"
   ]
  },
  {
   "cell_type": "code",
   "execution_count": 18,
   "id": "0c955080",
   "metadata": {},
   "outputs": [
    {
     "name": "stdout",
     "output_type": "stream",
     "text": [
      "[25, 30, 19]\n"
     ]
    }
   ],
   "source": [
    "def filter_adults(age_list):\n",
    "    adults = []  # 성인 나이만 담을 빈 리스트 생성\n",
    "    for age in age_list:\n",
    "        if age >= 19:\n",
    "            adults.append(age) # 조건에 맞으면 리스트에 추가\n",
    "    return adults # 완성된 리스트를 반환\n",
    "\n",
    "# 함수 호출 및 결과 출력\n",
    "ages = [15, 25, 18, 30, 19]\n",
    "adult_ages = filter_adults(ages)\n",
    "print(adult_ages) # 출력: [25, 30, 19]"
   ]
  },
  {
   "cell_type": "markdown",
   "id": "d8e46af2",
   "metadata": {},
   "source": [
    " for문을 사용해서 숫자 1, 2, 3, 4, 5를 한 줄에 하나씩 출력하세요."
   ]
  },
  {
   "cell_type": "code",
   "execution_count": 46,
   "id": "7898ec96",
   "metadata": {},
   "outputs": [
    {
     "name": "stdout",
     "output_type": "stream",
     "text": [
      "1\n",
      "2\n",
      "3\n",
      "4\n",
      "5\n"
     ]
    }
   ],
   "source": [
    "# def a(num):\n",
    "#     print(type(num))\n",
    "#     return num\n",
    "\n",
    "for a in range(1, 6):\n",
    "    # print(a, end=', ')\n",
    "    print(a)"
   ]
  },
  {
   "cell_type": "code",
   "execution_count": null,
   "id": "8ad283ac",
   "metadata": {},
   "outputs": [
    {
     "name": "stdout",
     "output_type": "stream",
     "text": [
      "1\n",
      "2\n",
      "3\n",
      "4\n",
      "5\n"
     ]
    }
   ],
   "source": []
  },
  {
   "cell_type": "markdown",
   "id": "6027bcc3",
   "metadata": {},
   "source": [
    "열차 승무원 주의사항 체크\n",
    "열차 승무원들이 열차 운행 중 지켜야 할 주의사항을 확인하는 프로그램을 작성하세요. 프로그램은 주어진 승무원의 행동과 상황에 맞는 경고 메시지를 출력하는 기능을 구현해야 합니다.\n",
    "입력\n",
    "승무원의 행동과 상황을 나타내는 리스트가 주어집니다. 각 항목은 아래와 같은 항목들로 이루어져 있습니다:\n",
    "리스트 : (공실, 터널, 승객내림 ,승무원 호출, 문을 두드리는 소리, 마네킹)\n",
    "위의 리스트의 체크사항을 을 입력했을때 아래의 경고메시지를 출력하세요\n",
    "출력\n",
    "각 상황에 맞는 경고 메시지를 출력하세요. 경고 메시지는 아래와 같습니다:\n",
    "\"공실\": \"경고: 입실 상태로 확인할 수 없습니다.\"\n",
    "\n",
    "\n",
    "\"터널\": \"경고: 터널을 지나가는데 커튼을 치세요.\"\n",
    "\n",
    "\n",
    "\"승객 내림\": \"경고: 승객은 숲쪽으로 가게 됩니다.\"\n",
    "\n",
    "\n",
    "\"승무원 호출\": \"경고: 승무원 호출이 금지되었습니다.\"\n",
    "\n",
    "\n",
    "\"문을 두드리는 소리\": \"경고: 문을 두드리는 소리는 바람에 의한 소리입니다. 무시하세요.\"\n",
    "\n",
    "\n",
    "\"마네킹\": \"경고: 승객의 특이한 짐을 지나치세요.\"\n"
   ]
  },
  {
   "cell_type": "code",
   "execution_count": 50,
   "id": "8643cae3",
   "metadata": {},
   "outputs": [
    {
     "name": "stdout",
     "output_type": "stream",
     "text": [
      "경고: 입실 상태로 확인할 수 없습니다.\n"
     ]
    }
   ],
   "source": [
    "a ={\"공실\" : \"경고: 입실 상태로 확인할 수 없습니다.\",\n",
    "    \"터널\" : \"경고: 터널을 지나가는데 커튼을 치세요.\",\n",
    "    \"승객 내림\": \"경고: 승객은 숲쪽으로 가게 됩니다.\",\n",
    "    \"승무원 호출\": \"경고: 승무원 호출이 금지되었습니다.\",\n",
    "    \"문을 두드리는 소리\": \"경고: 문을 두드리는 소리는 바람에 의한 소리입니다. 무시하세요.\",\n",
    "    \"마네킹\": \"경고: 승객의 특이한 짐을 지나치세요.\"\n",
    "    }\n",
    "b = input(\"상황을 입력하세요.\")\n",
    "if b in a:\n",
    "    print(a[b])\n",
    "else:\n",
    "    print(\"아쉽다\")\n",
    "\n"
   ]
  },
  {
   "cell_type": "code",
   "execution_count": 48,
   "id": "5db63bf7",
   "metadata": {},
   "outputs": [
    {
     "name": "stdout",
     "output_type": "stream",
     "text": [
      "체크 리스트를 입력하세요:\n",
      "유효하지 않은 주의사항입니다. 다시 입력해 주세요.\n",
      "유효하지 않은 주의사항입니다. 다시 입력해 주세요.\n",
      "유효하지 않은 주의사항입니다. 다시 입력해 주세요.\n",
      "유효하지 않은 주의사항입니다. 다시 입력해 주세요.\n",
      "유효하지 않은 주의사항입니다. 다시 입력해 주세요.\n",
      "유효하지 않은 주의사항입니다. 다시 입력해 주세요.\n",
      "\n",
      "체크가 완료되었습니다.\n"
     ]
    }
   ],
   "source": [
    "경고 = {\n",
    "    \"공실\": \"경고: 입실 상태로 확인할 수 없습니다.\",\n",
    "    \"터널\": \"경고: 터널을 지나가는데 커튼을 치세요.\",\n",
    "    \"승객 내림\": \"경고: 승객은 숲쪽으로 가게 됩니다.\",\n",
    "    \"승무원 호출\": \"경고: 승무원 호출이 금지되었습니다.\",\n",
    "    \"문을 두드리는 소리\": \"경고: 문을 두드리는 소리는 바람에 의한 소리입니다. 무시하세요.\",\n",
    "    \"마네킹\": \"경고: 승객의 특이한 짐을 지나치세요.\"\n",
    "} #리스트 제작\n",
    "\n",
    "\n",
    "print(\"체크 리스트를 입력하세요:\") #입력문구 출력\n",
    "\n",
    "\n",
    "사용자 = [] # 사용자 입력을 저장할 빈 리스트 생성\n",
    "for _ in range(len(경고)): # 경고 딕셔너리의 항목 수만큼 반복\n",
    "    행동_입력 = input(\"주의사항을 입력하세요: \")\n",
    "    if 행동_입력 == '끝':\n",
    "        break\n",
    "    if 행동_입력 in 경고:# 입력한 주의사항이 경고 딕셔너리에 있는지 확인\n",
    "        print(경고[행동_입력])#있으면 출력\n",
    "        사용자.append(행동_입력)#입력사항을 리스트에 추가\n",
    "    else:\n",
    "        print(\"유효하지 않은 주의사항입니다. 다시 입력해 주세요.\")\n",
    "\n",
    "\n",
    "print(\"\\n체크가 완료되었습니다.\")"
   ]
  },
  {
   "cell_type": "markdown",
   "id": "9e89f974",
   "metadata": {},
   "source": [
    "문제 4) 리스트에 들어 있는 과일 중 \"사과\"가 몇 개인지 세어서 출력하세요.\n",
    "과일들 = [\"사과\", \"바나나\", \"사과\", \"포도\", \"사과\", \"배\"]\n"
   ]
  },
  {
   "cell_type": "code",
   "execution_count": 42,
   "id": "f0746601",
   "metadata": {},
   "outputs": [
    {
     "name": "stdout",
     "output_type": "stream",
     "text": [
      "3\n"
     ]
    }
   ],
   "source": [
    "a = [\"사과\", \"바나나\", \"사과\", \"포도\", \"사과\", \"배\"]\n",
    "count = 0\n",
    "for list in a:\n",
    "    if list == \"사과\":\n",
    "        count += 1\n",
    "print(count)    "
   ]
  }
 ],
 "metadata": {
  "kernelspec": {
   "display_name": "Python 3",
   "language": "python",
   "name": "python3"
  },
  "language_info": {
   "codemirror_mode": {
    "name": "ipython",
    "version": 3
   },
   "file_extension": ".py",
   "mimetype": "text/x-python",
   "name": "python",
   "nbconvert_exporter": "python",
   "pygments_lexer": "ipython3",
   "version": "3.13.5"
  }
 },
 "nbformat": 4,
 "nbformat_minor": 5
}
