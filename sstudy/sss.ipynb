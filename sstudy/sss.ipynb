{
 "cells": [
  {
   "cell_type": "code",
   "execution_count": null,
   "id": "ee69e8da",
   "metadata": {},
   "outputs": [
    {
     "name": "stdout",
     "output_type": "stream",
     "text": [
      "['파', '남', '보']\n"
     ]
    }
   ],
   "source": [
    "list = ['빨', '주' , '노' , '초' , '파' , '남' , '보']\n",
    "color_list = [] # 좋아하는 색을 넣을 리스트\n",
    "색1 = input(\"좋아하는 색을 말해\") #좋아하는 색 입력\n",
    "색2 = input(\"좋아하는 색을 말해\")\n",
    "색3 = input(\"좋아하는 색을 말해\")\n",
    "color_list.append (색1) #리스트에 색 추가(append)\n",
    "color_list.append (색2)\n",
    "color_list.append (색3)\n",
    "print(color_list) #리스트 출력\n"
   ]
  },
  {
   "cell_type": "code",
   "execution_count": null,
   "id": "1f476d30",
   "metadata": {},
   "outputs": [
    {
     "name": "stdout",
     "output_type": "stream",
     "text": [
      "[2, 4, 6, 8, 10]\n"
     ]
    }
   ],
   "source": [
    "numbers = [1, 2, 3, 4, 5, 6, 7, 8, 9, 10]\n",
    "짝수 = []\n",
    "for num in numbers:\n",
    "    if num % 2 == 0:\n",
    "       짝수.append(num)  #.append(값): 리스트의 맨 뒤에 새로운 값을 추가합니다.\n",
    "print(짝수)\n"
   ]
  },
  {
   "cell_type": "code",
   "execution_count": null,
   "id": "f3d8abe0",
   "metadata": {},
   "outputs": [
    {
     "name": "stdout",
     "output_type": "stream",
     "text": [
      "10\n"
     ]
    }
   ],
   "source": [
    "list = [10, 20, 30, 40, 50]\n",
    "\n",
    "print(list[0]) #리스트의 첫번쨰 값인 [0]을 출력(리스트의 자릿수는 0,1,2,3....이렇게 이어짐.)"
   ]
  },
  {
   "cell_type": "code",
   "execution_count": null,
   "id": "7058afc0",
   "metadata": {},
   "outputs": [
    {
     "ename": "TypeError",
     "evalue": "'>' not supported between instances of 'tuple' and 'builtin_function_or_method'",
     "output_type": "error",
     "traceback": [
      "\u001b[31m---------------------------------------------------------------------------\u001b[39m",
      "\u001b[31mTypeError\u001b[39m                                 Traceback (most recent call last)",
      "\u001b[36mCell\u001b[39m\u001b[36m \u001b[39m\u001b[32mIn[27]\u001b[39m\u001b[32m, line 15\u001b[39m\n\u001b[32m     13\u001b[39m \u001b[38;5;28mlist\u001b[39m.append(음료3)\n\u001b[32m     14\u001b[39m \u001b[38;5;28;01mfor\u001b[39;00m 음료 \u001b[38;5;129;01min\u001b[39;00m \u001b[38;5;28mlist\u001b[39m:\n\u001b[32m---> \u001b[39m\u001b[32m15\u001b[39m     \u001b[38;5;28;01mif\u001b[39;00m \u001b[43m음료\u001b[49m\u001b[43m \u001b[49m\u001b[43m>\u001b[49m\u001b[43m \u001b[49m\u001b[38;5;28;43mmax\u001b[39;49m:\n\u001b[32m     16\u001b[39m         \u001b[38;5;28mmax\u001b[39m = 음료\n\u001b[32m     18\u001b[39m \u001b[38;5;28mprint\u001b[39m(\u001b[38;5;28mlist\u001b[39m)\n",
      "\u001b[31mTypeError\u001b[39m: '>' not supported between instances of 'tuple' and 'builtin_function_or_method'"
     ]
    }
   ],
   "source": [
    "list = []\n",
    "음료리스트 = []\n",
    "가격리스트 = []\n",
    "\n",
    "for i in range(3):"
   ]
  }
 ],
 "metadata": {
  "kernelspec": {
   "display_name": "Python 3",
   "language": "python",
   "name": "python3"
  },
  "language_info": {
   "codemirror_mode": {
    "name": "ipython",
    "version": 3
   },
   "file_extension": ".py",
   "mimetype": "text/x-python",
   "name": "python",
   "nbconvert_exporter": "python",
   "pygments_lexer": "ipython3",
   "version": "3.13.5"
  }
 },
 "nbformat": 4,
 "nbformat_minor": 5
}
