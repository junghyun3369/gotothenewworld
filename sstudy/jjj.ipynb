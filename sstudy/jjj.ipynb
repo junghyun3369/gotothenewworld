{
 "cells": [
  {
   "cell_type": "markdown",
   "id": "fd3e4d49",
   "metadata": {},
   "source": [
    "문제2)튜플을 이용한 변수 값 교환 ↔️\n",
    "두 변수 a와 b에 저장된 값을 서로 바꾸려고 합니다. 임시 변수를 사용하지 않고, 튜플의 패킹(packing)과 언패킹(unpacking) 특징을 이용하여 단 한 줄의 코드로 값을 교환해보세요.\n",
    "\n",
    "✏️ 코드 작성"
   ]
  },
  {
   "cell_type": "code",
   "execution_count": null,
   "id": "962fa4ca",
   "metadata": {},
   "outputs": [],
   "source": [
    "a = 100\n",
    "b = \"Hello\"\n",
    "print(f\"바꾸기 전: a = {a}, b = {b}\")\n",
    "\n",
    "# TODO: 이 아래에 튜플을 이용하여 a와 b의 값을 바꾸는 코드를 한 줄로 작성하세요.\n",
    "\n",
    "\n",
    "print(f\"바꾼 후: a = {a}, b = {b}\")\n",
    "# 예상 출력: 바꾼 후: a = Hello, b = 100\n"
   ]
  },
  {
   "cell_type": "markdown",
   "id": "a5d3eff4",
   "metadata": {},
   "source": [
    "문제1) 다음 숫자에서 짝수만 골라서 출력해보세요\n"
   ]
  },
  {
   "cell_type": "code",
   "execution_count": 50,
   "id": "0c3f4184",
   "metadata": {},
   "outputs": [
    {
     "name": "stdout",
     "output_type": "stream",
     "text": [
      "10\n",
      "8\n",
      "2\n",
      "20\n"
     ]
    }
   ],
   "source": [
    "num = (3, 10, 15, 8, 2, 11, 20)\n",
    "for num in num:\n",
    "    if num%2 == 0:\n",
    "        print(num)\n"
   ]
  },
  {
   "cell_type": "markdown",
   "id": "7aa7a9a1",
   "metadata": {},
   "source": [
    "문제3) 다음은 일주일의 요일이 저장된 튜플입니다:\n",
    "days = (\"월\", \"화\", \"수\", \"목\", \"금\", \"토\", \"일\")\n",
    "\n",
    "📌 문제 요구사항\n",
    "사용자로부터 0부터 6까지의 숫자를 입력받으세요.\n",
    "숫자에 해당하는 요일을 출력하세요.\n",
    "예를 들어, 0을 입력하면 \"월\"이 출력됩니다.\n",
    "입력한 숫자가 범위를 벗어나면 \"잘못된 입력입니다.\"를 출력하세요.\n",
    "\n",
    "📝 예시\n",
    "요일 번호를 입력하세요: 2\n",
    "오늘은 수요일입니다.\n",
    "\n",
    "요일 번호를 입력하세요: 7\n",
    "잘못된 입력입니다.\n"
   ]
  },
  {
   "cell_type": "code",
   "execution_count": 49,
   "id": "a7529f83",
   "metadata": {},
   "outputs": [
    {
     "name": "stdout",
     "output_type": "stream",
     "text": [
      "오늘은 토요일 입니다.\n"
     ]
    }
   ],
   "source": [
    "days = (f\"월\", \"화\", \"수\", \"목\", \"금\", \"토\", \"일\")\n",
    "\n",
    "요일 = int(input(\"0~6까지의 숫자를 입력\"))\n",
    "\n",
    "if 0 <= 요일 <= 6:\n",
    "    print(f\"오늘은 {days[요일]}요일 입니다.\")\n",
    "else:\n",
    "    print(\"잘못된 입력입니다..\")\n",
    "        "
   ]
  }
 ],
 "metadata": {
  "kernelspec": {
   "display_name": "Python 3",
   "language": "python",
   "name": "python3"
  },
  "language_info": {
   "codemirror_mode": {
    "name": "ipython",
    "version": 3
   },
   "file_extension": ".py",
   "mimetype": "text/x-python",
   "name": "python",
   "nbconvert_exporter": "python",
   "pygments_lexer": "ipython3",
   "version": "3.13.5"
  }
 },
 "nbformat": 4,
 "nbformat_minor": 5
}
