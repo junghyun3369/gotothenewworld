{
 "cells": [
  {
   "cell_type": "markdown",
   "id": "31193687",
   "metadata": {},
   "source": [
    "미니 단어장 프로그램\n",
    "사용자가 단어를 입력하면 뜻을 알려주는 간단한 단어장 프로그램을 만들어 보세요.\n",
    "\n",
    "요구 조건:\n",
    "\n",
    "단어와 뜻은 **딕셔너리(dictionary)**로 관리합니다.\n",
    "\n",
    "vocab = {'apple': '사과', 'banana': '바나나', 'orange': '오렌지'}\n",
    "\n",
    "특수 명령어는 **튜플(tuple)**로 관리합니다.\n",
    "\n",
    "commands = ('/종료', '/목록')\n",
    "\n",
    "프로그램은 while문으로 계속 실행되며, 아래의 기능을 수행합니다.\n",
    "\n",
    "사용자에게 \"단어를 입력하세요 ('/종료', '/목록'): \" 이라고 묻습니다.\n",
    "\n",
    "영어 단어를 입력하면: 딕셔너리에서 뜻을 찾아 출력합니다. 단어장에 없는 단어면 \"단어장에 없는 단어입니다.\"를 출력합니다.\n",
    "\n",
    "**'/목록'**을 입력하면: 단어장에 있는 모든 영어 단어(key값들)를 보여줍니다.\n",
    "\n",
    "**'/종료'**를 입력하면: \"단어장을 종료합니다.\"를 출력하고 프로그램을 끝냅니다."
   ]
  },
  {
   "cell_type": "code",
   "execution_count": null,
   "id": "8ebdde06",
   "metadata": {},
   "outputs": [],
   "source": [
    "# 단어장은 딕셔너리로, 명령어는 튜플로 정의\n",
    "vocab = {'apple': '사과', 'banana': '바나나', 'orange': '오렌지'}\n",
    "commands = ('/종료', '/목록')\n",
    "\n",
    "while True:\n",
    "    user_input = input(\"\\n단어를 입력하세요 ('/종료', '/목록'): \")\n",
    "\n",
    "    if user_input == commands[0]: # '/종료'\n",
    "        print(\"단어장을 종료합니다.\")\n",
    "        break\n",
    "    elif user_input == commands[1]: # '/목록'\n",
    "        print(\"--- 단어 목록 ---\")\n",
    "        for word in vocab.keys(): # 딕셔너리의 key들만 출력\n",
    "            print(word)\n",
    "    elif user_input in vocab:\n",
    "        # 단어장에 있는 단어일 경우, 뜻(value)을 출력\n",
    "        print(f\">> {user_input}의 뜻: {vocab[user_input]}\")\n",
    "    else:\n",
    "        print(\">> 단어장에 없는 단어입니다.\")"
   ]
  },
  {
   "cell_type": "markdown",
   "id": "67169587",
   "metadata": {},
   "source": [
    "오늘의 할 일 체커\n",
    "오늘 해야 할 일 목록을 보여주고, 완료한 일을 체크하는 프로그램을 만들어 보세요.\n",
    "\n",
    "요구 조건:\n",
    "\n",
    "고정된 할 일 목록은 **튜플(tuple)**로 관리합니다.\n",
    "\n",
    "tasks = ('코딩 공부', '운동하기', '책 읽기')\n",
    "\n",
    "각 할 일의 완료 여부는 **딕셔너리(dictionary)**로 관리합니다.\n",
    "\n",
    "task_status = {'코딩 공부': '미완료', '운동하기': '미완료', '책 읽기': '미완료'}\n",
    "\n",
    "while문을 사용해 프로그램을 계속 실행하며 아래 기능을 수행합니다.\n",
    "\n",
    "매번 반복이 시작될 때마다 현재 모든 할 일과 그 상태를 출력합니다.\n",
    "\n",
    "사용자에게 \"완료한 일은 무엇인가요? (끝내려면 '종료' 입력): \" 이라고 묻습니다.\n",
    "\n",
    "사용자가 할 일을 입력하면: task_status 딕셔너리에서 해당 할 일의 상태를 **'완료'**로 변경합니다.\n",
    "\n",
    "사용자가 **'종료'**를 입력하면: 프로그램을 끝냅니다.\n",
    "\n",
    "목록에 없는 일을 입력하면 \"목록에 없는 할 일입니다.\"를 출력합니다."
   ]
  },
  {
   "cell_type": "code",
   "execution_count": null,
   "id": "e0380ce8",
   "metadata": {},
   "outputs": [],
   "source": [
    "# 할 일 목록은 튜플로, 완료 상태는 딕셔너리로 정의\n",
    "tasks = ('코딩 공부', '운동하기', '책 읽기')\n",
    "task_status = {'코딩 공부': '미완료', '운동하기': '미완료', '책 읽기': '미완료'}\n",
    "\n",
    "while True:\n",
    "    print(\"\\n--- 오늘의 할 일 ---\")\n",
    "    for task in tasks:\n",
    "        print(f\"{task}: {task_status[task]}\")\n",
    "    \n",
    "    user_input = input(\"완료한 일은 무엇인가요? (끝내려면 '종료' 입력): \")\n",
    "\n",
    "    if user_input == '종료':\n",
    "        print(\"오늘도 수고하셨습니다!\")\n",
    "        break\n",
    "    \n",
    "    # 입력한 일이 tasks 튜플에 있는지 확인\n",
    "    if user_input in tasks:\n",
    "        print(f\">> '{user_input}' 작업을 완료했습니다!\")\n",
    "        task_status[user_input] = '✅ 완료' # 딕셔너리의 값(value)을 변경\n",
    "    else:\n",
    "        print(\">> 목록에 없는 할 일입니다.\")"
   ]
  },
  {
   "cell_type": "markdown",
   "id": "9250932f",
   "metadata": {},
   "source": [
    "메뉴 주문 프로그램\n",
    "다음은 카페의 메뉴입니다. 메뉴는 리스트 안에 튜플 형태로[ (메뉴이름, 가격), …] 구성되어 있습니다.(음료 3가지 이상)\n",
    " 이 메뉴들을 바탕으로 사용자가 메뉴를 선택하면 가격을 알려주는 프로그램을 작성하세요.\n",
    "조건\n",
    "메뉴는 튜플 목록으로 구성됨: (\"아메리카노\", 3000)\n",
    "딕셔너리로 바꿔서 빠르게 가격을 찾음\n",
    "while문으로 주문 반복\n",
    "없는 메뉴를 입력하면 \"메뉴에 없습니다\" 출력\n",
    "\"종료\" 입력 시 주문 종료\n"
   ]
  },
  {
   "cell_type": "code",
   "execution_count": null,
   "id": "ee82e2e0",
   "metadata": {},
   "outputs": [
    {
     "name": "stdout",
     "output_type": "stream",
     "text": [
      "메뉴에 없어요...\n"
     ]
    }
   ],
   "source": [
    "menu = [\n",
    "    ('아메리카노',9000),\n",
    "    ('라떼',37000),\n",
    "    ('카라멜 마끼아또',900000)\n",
    "    ]\n",
    "a = dict(menu)\n",
    "while True:\n",
    "    s = input(\"주문하시겠습니까?(없으면 '종료' 입력)\")\n",
    "    if s in a:\n",
    "        price = a[s]\n",
    "        print(f\"{s}의 가격은 {price}원입니다.\")\n",
    "    elif s == '종료':    \n",
    "        print(\"안녕히가세요.\")\n",
    "        break\n",
    "    else:\n",
    "        print(\"메뉴에 없어요...\")\n",
    "        break\n",
    "\n",
    "\n"
   ]
  },
  {
   "cell_type": "code",
   "execution_count": null,
   "id": "447b130e",
   "metadata": {},
   "outputs": [],
   "source": []
  },
  {
   "cell_type": "markdown",
   "id": "5ab2b7ee",
   "metadata": {},
   "source": [
    "요일 맞히기 게임\n",
    "\n",
    " 튜플에 요일 정보가 저장되어 있습니다.\n",
    " 사용자는 숫자를 입력해서 요일을 맞힙니다.\n",
    "0을 입력하면 \"월\"\n",
    "\n",
    "\n",
    "1을 입력하면 \"화\"\n",
    "\n",
    "\n",
    "...\n",
    "\n",
    "\n",
    "6을 입력하면 \"일\"\n",
    "사용자가 종료라고 입력하면 프로그램을 종료하세요.\n"
   ]
  },
  {
   "cell_type": "code",
   "execution_count": null,
   "id": "b6681484",
   "metadata": {},
   "outputs": [
    {
     "name": "stdout",
     "output_type": "stream",
     "text": [
      "화\n",
      "월\n",
      "목\n",
      "금\n",
      "일\n",
      "토\n",
      "금\n",
      "목\n",
      "오류: 숫자가 아닌 값이 입력되었습니다.\n",
      "그레이트.\n"
     ]
    }
   ],
   "source": [
    "d = (\"월\", \"화\", \"수\", \"목\", \"금\", \"토\", \"일\")\n",
    "dic = {0:\"월\", 1:\"화\", 2:\"수\",3:\"목\", 4:\"금\", 5:\"토\", 6:\"일\"}\n",
    "while True:\n",
    "    a = input(\" '숫자'를 대답해..!! \")\n",
    "    if a == '종료':\n",
    "        print(\"그레이트.\")\n",
    "        break\n",
    "    try:\n",
    "        num = int(a)\n",
    "        if num in dic:\n",
    "            print(dic[num])\n",
    "    except ValueError:\n",
    "        print(\" '숫자' 가 아니야...!!\")\n"
   ]
  },
  {
   "cell_type": "code",
   "execution_count": null,
   "id": "b3c618c3",
   "metadata": {},
   "outputs": [],
   "source": []
  },
  {
   "cell_type": "markdown",
   "id": "6964a365",
   "metadata": {},
   "source": [
    "좀비 감염자 감지기\n",
    "\n",
    "어느 날, 학교에 좀비 바이러스가 퍼졌습니다!\n",
    "아래와 같이 학생 이름과 체온이 주어졌을 때, 38도 이상이면 '감염 의심!' 이라는 경고 메시지를 출력하세요.\n",
    "사용자가 \"종료\"라고 입력할 때까지 반복합니다.\n",
    "\n",
    " < 예시 >\n",
    "# 이름을 입력하세요: 지민\n",
    "# 체온을 입력하세요: 38.5\n",
    "# 출력: 지민님은 감염 의심! 보건실로 안내하세요.\n"
   ]
  },
  {
   "cell_type": "code",
   "execution_count": 29,
   "id": "f02868c4",
   "metadata": {},
   "outputs": [
    {
     "name": "stdout",
     "output_type": "stream",
     "text": [
      "그레이트.\n"
     ]
    }
   ],
   "source": [
    "z = (\"지민\",\"하늘\",\"미나\",\"키라\")\n",
    "\n",
    "while True:\n",
    "    a = input(\"말해라, 너의 '이름' 을 ....,\")\n",
    "    if a == '종료':\n",
    "        print(\"그레이트.\")\n",
    "        break\n",
    "    b = input(\"말해라, 너의 '온도' 를 ....,\")\n",
    "    c = float(b)\n",
    "    if c >= 38:\n",
    "        print(\"감염 의심..!!!\")\n",
    "        break\n",
    "    else:\n",
    "        print(\"지나가.\")\n",
    "        break\n"
   ]
  },
  {
   "cell_type": "code",
   "execution_count": null,
   "id": "2dab6ebf",
   "metadata": {},
   "outputs": [],
   "source": []
  },
  {
   "cell_type": "markdown",
   "id": "f30f42ef",
   "metadata": {},
   "source": [
    " 숫자 총합 구하기\n",
    "사용자에게 숫자를 계속 입력받아 모든 숫자의 합계를 구하세요.\n",
    " 사용자가 \"종료\"를 입력하면 지금까지 입력한 숫자의 총합을 출력하고 프로그램을 종료합니다.\n",
    "조건\n",
    "while문으로 반복\n",
    "if문으로 \"종료\" 여부 판단\n",
    "숫자 입력값을 모두 더함\n",
    "\"종료\" 입력 시 break로 루프 탈출 후 총합 출력\n"
   ]
  },
  {
   "cell_type": "code",
   "execution_count": null,
   "id": "80ade2a2",
   "metadata": {},
   "outputs": [],
   "source": []
  },
  {
   "cell_type": "code",
   "execution_count": null,
   "id": "c916c5dd",
   "metadata": {},
   "outputs": [],
   "source": []
  },
  {
   "cell_type": "markdown",
   "id": "03ea6e93",
   "metadata": {},
   "source": [
    "요리 재료 맞추기 게임\n",
    "\n",
    "요리에 필요한 재료와 각 재료의 정확한 수량을 맞추는 게임을 만들어 보세요.\n",
    "\n",
    "# 1. 재료 이름 3개가 튜플에 저장되어 있습니다.\n",
    "\n",
    "# 2. 각 재료의 수량이 딕셔너리에 저장되어 있습니다.\n",
    "\n",
    "# 3. 사용자에게 재료 이름과 수량을 차례로 입력받습니다.\n",
    "\n",
    "# 4 .사용자가 모든 재료와 수량을 맞히면 게임이 종료됩니다.\n",
    "\n",
    "예시\n",
    "요리재료 맞추기 게임\n",
    "\n",
    "재료 이름: 달걀\n",
    "수량: 2개\n",
    "정답!\n",
    "\n",
    "재료 이름: 우유\n",
    "수량: 2컵\n",
    "틀렸어요. 다시 시도하세요.\n",
    "\n",
    "재료 이름: 우유\n",
    "수량: 1컵\n",
    "정답!\n",
    "\n",
    "재료 이름: 밀가루\n",
    "수량: 200g\n",
    "정답!\n",
    "\n",
    "모두 맞혔어요!"
   ]
  },
  {
   "cell_type": "code",
   "execution_count": null,
   "id": "d61a0019",
   "metadata": {},
   "outputs": [],
   "source": []
  },
  {
   "cell_type": "code",
   "execution_count": null,
   "id": "36bb653b",
   "metadata": {},
   "outputs": [],
   "source": []
  },
  {
   "cell_type": "markdown",
   "id": "cb877809",
   "metadata": {},
   "source": [
    "우주선 부품 체크 하기\n",
    "\n",
    "현재 부품 중 하나가 고장이 난 상태입니다\n",
    "각 부품을 입력하여 고장난 부품을 확인 하세요\n",
    "\n",
    "# 1.우주선 부품 이름 3개가 튜플에 저장되어 있습니다.\n",
    "\n",
    "# 2.각 부품의 상태(“정상” 또는 “고장”)가 딕셔너리에 저장되어 있습니다.\n",
    "\n",
    "# 3.사용자에게 부품 이름을 계속 입력받아, 해당 부품의 상태를 출력합니다.\n",
    "\n",
    "# 4.만약 입력한 부품 이름이 튜플에 없으면 “없는 부품입니다.”라고 출력하세요.\n",
    "\n",
    "# 5.사용자가 “종료”를 입력하면 프로그램을 종료합니다.\n",
    "\n",
    "예시\n",
    "부품 이름을 입력하세요 (종료하려면 '종료' 입력): 엔진\n",
    "엔진 상태: 정상\n",
    "\n",
    "부품 이름을 입력하세요 (종료하려면 '종료' 입력): 연료탱크\n",
    "연료탱크 상태: 고장\n",
    "\n",
    "부품 이름을 입력하세요 (종료하려면 '종료' 입력): 조종석\n",
    "조종석 상태: 정상\n",
    "\n",
    "부품 이름을 입력하세요 (종료하려면 '종료' 입력): 바퀴\n",
    "없는 부품입니다.\n",
    "\n",
    "부품 이름을 입력하세요 (종료하려면 '종료' 입력): 종료\n",
    "프로그램을 종료합니다.\n",
    "\n"
   ]
  },
  {
   "cell_type": "code",
   "execution_count": null,
   "id": "cc16dbcb",
   "metadata": {},
   "outputs": [],
   "source": []
  },
  {
   "cell_type": "code",
   "execution_count": null,
   "id": "ff6d2c79",
   "metadata": {},
   "outputs": [],
   "source": []
  }
 ],
 "metadata": {
  "kernelspec": {
   "display_name": "Python 3",
   "language": "python",
   "name": "python3"
  },
  "language_info": {
   "codemirror_mode": {
    "name": "ipython",
    "version": 3
   },
   "file_extension": ".py",
   "mimetype": "text/x-python",
   "name": "python",
   "nbconvert_exporter": "python",
   "pygments_lexer": "ipython3",
   "version": "3.13.5"
  }
 },
 "nbformat": 4,
 "nbformat_minor": 5
}
